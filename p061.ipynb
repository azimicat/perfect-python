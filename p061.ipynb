{
 "cells": [
  {
   "cell_type": "markdown",
   "id": "7d4bd63f-a180-4441-9ddf-224f783992fc",
   "metadata": {},
   "source": [
    "# メモリ管理\n",
    "\n",
    "他のスクリプト言語と同じように、利用されなくなったメモリはガベージコレクタで検出され解放されます。開発者はメモリの割り当てや解放を考える必要がありません。\n",
    "\n",
    "Pythonのガベージコレクタはリファレンスカウンターを用いたガベージコレクタです。  \n",
    "リファレンスカウンタ方式は、あるオブジェクトを参照しているリファレンスの数を保持して、リファレンス数がゼロになったオブジェクトが利用しているメモリを解放します。\n",
    "参照がないオブジェクトは利用されなくなっているということを前提としています。\n",
    "\n",
    "## gcモジュール\n",
    "gcモジュールを使うと、ガベージコレクションを手動でも実施できます。"
   ]
  },
  {
   "cell_type": "code",
   "execution_count": null,
   "id": "b3ad6168-3faf-43b9-9e2b-71aef1002d43",
   "metadata": {},
   "outputs": [],
   "source": [
    "import gc\n",
    "\n",
    "gc.collect()"
   ]
  },
  {
   "cell_type": "markdown",
   "id": "90187ac8-866e-4f65-ba1c-4b956ebe2b29",
   "metadata": {},
   "source": [
    "通常はgcモジュールを使う必要はありません。  \n",
    "ガベージコレクタは到達不可能な循環参照オブジェクトに関しても検出し、自動でメモリを解放します。\n",
    "\n",
    "## 自動で解放しきれないオブジェクト\n",
    "\n",
    "ファイナライザ（`__del__`メソッド）が定義されているオブジェクトに関しては、循環参照している複数のオブジェクトをどの順番で解放していくべきか自動で判断できません。  \n",
    "結果、自動で解放しきれないオブジェクトとして`gc.garbage`にリストで格納されます。\n",
    "\n",
    "⚠️ 本来は`__del__`の定義されたオブジェクトを循環参照すべきではありません。"
   ]
  },
  {
   "cell_type": "code",
   "execution_count": null,
   "id": "99382a24-b497-4271-b646-cbf44433817b",
   "metadata": {},
   "outputs": [],
   "source": [
    "class A:\n",
    "    def __del__(self):\n",
    "        print('call __del__')"
   ]
  },
  {
   "cell_type": "code",
   "execution_count": null,
   "id": "146f3971-8b87-4b78-8757-a9aed8871479",
   "metadata": {},
   "outputs": [],
   "source": [
    "l = [A()]\n",
    "l[0].l = l"
   ]
  },
  {
   "cell_type": "code",
   "execution_count": null,
   "id": "81090f8a-93e3-4a08-b1c4-e14ceb41aff5",
   "metadata": {},
   "outputs": [],
   "source": [
    "import gc\n",
    "gc.collect()"
   ]
  },
  {
   "cell_type": "code",
   "execution_count": null,
   "id": "0a249416-f8ba-4e1a-830f-c304801f9f0c",
   "metadata": {},
   "outputs": [],
   "source": [
    "gc.garbage"
   ]
  },
  {
   "cell_type": "markdown",
   "id": "2fd2249f-86fc-4a8f-bfbc-b5d1119cbe5a",
   "metadata": {},
   "source": [
    "もし、循環参照のみのリファレンスとなってしまった場合でも、安全な解放順序尾がわかればメモリを解放する手段はあります。  \n",
    "まず、`gc.garbage`を通じてオブジェクトにアクセスします。次にリファレンスを安全に解除し、`gc.garbage`からのリファレンスも解除すれば解放できます。"
   ]
  },
  {
   "cell_type": "code",
   "execution_count": null,
   "id": "56d5f5d8-9a66-4135-8af1-f39eedfa6f02",
   "metadata": {},
   "outputs": [],
   "source": [
    "del gc.garbage[0].l"
   ]
  },
  {
   "cell_type": "code",
   "execution_count": null,
   "id": "746dc567-0769-4331-98db-25c051c1cdac",
   "metadata": {},
   "outputs": [],
   "source": [
    "del gc.garbage[0]"
   ]
  },
  {
   "cell_type": "code",
   "execution_count": null,
   "id": "4544c7c3-0428-44c4-89cb-9785fb8e1029",
   "metadata": {},
   "outputs": [],
   "source": [
    "gc.collect()"
   ]
  }
 ],
 "metadata": {
  "kernelspec": {
   "display_name": "",
   "name": ""
  },
  "language_info": {
   "name": ""
  }
 },
 "nbformat": 4,
 "nbformat_minor": 5
}
