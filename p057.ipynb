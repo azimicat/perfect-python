{
 "cells": [
  {
   "cell_type": "markdown",
   "id": "e5a63705-ccc0-479a-baba-f712466ec69d",
   "metadata": {},
   "source": [
    "# 識別子\n",
    "\n",
    "`_` で始まる識別子は、モジュールからワイルドカード（`*`）でインポートした場合にインポートされません。\n",
    "インタラクティブシェルでは直前の結果を`_`に格納します。\n",
    "\n",
    "インタラクティブシェル: `python`コマンドで起動する対話型のshell\n",
    "```bash\n",
    "> python\n",
    "Python 3.8.9 (default, Apr 13 2022, 08:48:06) \n",
    "[Clang 13.1.6 (clang-1316.0.21.2.5)] on darwin\n",
    "Type \"help\", \"copyright\", \"credits\" or \"license\" for more information.\n",
    ">>> \n",
    "```\n",
    "\n",
    "クラス内で記述される`__`で始まる識別子は、プライベートな識別子としての扱いになります。 　\n",
    "クラスの継承を行なった際、名前の衝突を避けるため、実行時に`_クラス名`が識別子の先頭へ追加されます。"
   ]
  },
  {
   "cell_type": "markdown",
   "id": "3ed6fc40-dd74-4e2c-9aa2-f547968611f2",
   "metadata": {},
   "source": [
    "# 変数\n",
    "\n",
    "Pythonの変数は識別子であればよく、型によって`$`や`%`をつけることはありません。  \n",
    "変数は、オブジェクトを割り当てる名前空間に束縛されます。"
   ]
  },
  {
   "cell_type": "code",
   "execution_count": 1,
   "id": "e136471d-2456-4b44-a2d4-eec17d1ce9c5",
   "metadata": {},
   "outputs": [
    {
     "data": {
      "text/plain": [
       "'ham'"
      ]
     },
     "execution_count": 1,
     "metadata": {},
     "output_type": "execute_result"
    }
   ],
   "source": [
    "spam = 'ham'\n",
    "\n",
    "spam"
   ]
  },
  {
   "cell_type": "markdown",
   "id": "4b6f31c4-5c73-484a-8ad2-571a4fb0aabc",
   "metadata": {},
   "source": [
    "未定義の定義を参照しようとすると`NameError`を返します。"
   ]
  },
  {
   "cell_type": "code",
   "execution_count": 4,
   "id": "bed1a299-2082-4a47-a060-16cfae949c87",
   "metadata": {},
   "outputs": [
    {
     "ename": "NameError",
     "evalue": "name 'egg' is not defined",
     "output_type": "error",
     "traceback": [
      "\u001b[0;31m---------------------------------------------------------------------------\u001b[0m",
      "\u001b[0;31mNameError\u001b[0m                                 Traceback (most recent call last)",
      "Input \u001b[0;32mIn [4]\u001b[0m, in \u001b[0;36m<cell line: 1>\u001b[0;34m()\u001b[0m\n\u001b[0;32m----> 1\u001b[0m \u001b[43megg\u001b[49m\n",
      "\u001b[0;31mNameError\u001b[0m: name 'egg' is not defined"
     ]
    }
   ],
   "source": [
    "egg"
   ]
  },
  {
   "cell_type": "markdown",
   "id": "6180519c-c288-4d9f-902a-c78568785037",
   "metadata": {},
   "source": [
    "変数の参照を削除する場合には、`del`キーワードを使います。"
   ]
  },
  {
   "cell_type": "code",
   "execution_count": 9,
   "id": "4488354f-1a4b-4b3a-945d-6bee00b6d0b0",
   "metadata": {},
   "outputs": [
    {
     "data": {
      "text/plain": [
       "'hum'"
      ]
     },
     "execution_count": 9,
     "metadata": {},
     "output_type": "execute_result"
    }
   ],
   "source": [
    "spam = 'hum'\n",
    "\n",
    "# print\n",
    "spam"
   ]
  },
  {
   "cell_type": "code",
   "execution_count": 10,
   "id": "5530b034-4f1f-4e2e-a079-5edcdd35b681",
   "metadata": {},
   "outputs": [
    {
     "ename": "NameError",
     "evalue": "name 'spam' is not defined",
     "output_type": "error",
     "traceback": [
      "\u001b[0;31m---------------------------------------------------------------------------\u001b[0m",
      "\u001b[0;31mNameError\u001b[0m                                 Traceback (most recent call last)",
      "Input \u001b[0;32mIn [10]\u001b[0m, in \u001b[0;36m<cell line: 5>\u001b[0;34m()\u001b[0m\n\u001b[1;32m      2\u001b[0m \u001b[38;5;28;01mdel\u001b[39;00m spam\n\u001b[1;32m      4\u001b[0m \u001b[38;5;66;03m#print\u001b[39;00m\n\u001b[0;32m----> 5\u001b[0m \u001b[43mspam\u001b[49m\n",
      "\u001b[0;31mNameError\u001b[0m: name 'spam' is not defined"
     ]
    }
   ],
   "source": [
    "# delete\n",
    "del spam\n",
    "\n",
    "#print\n",
    "spam"
   ]
  }
 ],
 "metadata": {
  "kernelspec": {
   "display_name": "Python 3 (ipykernel)",
   "language": "python",
   "name": "python3"
  },
  "language_info": {
   "codemirror_mode": {
    "name": "ipython",
    "version": 3
   },
   "file_extension": ".py",
   "mimetype": "text/x-python",
   "name": "python",
   "nbconvert_exporter": "python",
   "pygments_lexer": "ipython3",
   "version": "3.8.9"
  }
 },
 "nbformat": 4,
 "nbformat_minor": 5
}
