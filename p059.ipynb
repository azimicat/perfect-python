{
 "cells": [
  {
   "cell_type": "markdown",
   "id": "a61d03ad-ec82-4d33-bd8f-2ae7dd9fcdf0",
   "metadata": {},
   "source": [
    "# ノンローカル変数\n",
    "\n",
    "`nonlocal`キーワードを使うと、ローカルスコープではない一番近くの変数を利用できます。"
   ]
  },
  {
   "cell_type": "code",
   "execution_count": 26,
   "id": "beb40b2c-063d-40f5-8495-2b673b06635c",
   "metadata": {},
   "outputs": [],
   "source": [
    "def counter():\n",
    "    \"\"\"\n",
    "    関数を返す関数の定義。\n",
    "    counter関数にある変数countを_counterのスコープから利用できます。\n",
    "    \"\"\"\n",
    "    count = 0\n",
    "    \n",
    "    def _counter():\n",
    "        nonlocal count\n",
    "        count += 1\n",
    "        return count\n",
    "    \n",
    "    # 関数を返す\n",
    "    return _counter"
   ]
  },
  {
   "cell_type": "code",
   "execution_count": 24,
   "id": "c96d9b56-1dc6-47ef-a615-7a329437a44e",
   "metadata": {},
   "outputs": [
    {
     "data": {
      "text/plain": [
       "1"
      ]
     },
     "execution_count": 24,
     "metadata": {},
     "output_type": "execute_result"
    }
   ],
   "source": [
    "# 実行\n",
    "c = counter()\n",
    "c()"
   ]
  },
  {
   "cell_type": "code",
   "execution_count": 25,
   "id": "36258757-c136-4428-8a89-0728592ae5dc",
   "metadata": {},
   "outputs": [
    {
     "data": {
      "text/plain": [
       "2"
      ]
     },
     "execution_count": 25,
     "metadata": {},
     "output_type": "execute_result"
    }
   ],
   "source": [
    "c()"
   ]
  }
 ],
 "metadata": {
  "kernelspec": {
   "display_name": "Python 3 (ipykernel)",
   "language": "python",
   "name": "python3"
  },
  "language_info": {
   "codemirror_mode": {
    "name": "ipython",
    "version": 3
   },
   "file_extension": ".py",
   "mimetype": "text/x-python",
   "name": "python",
   "nbconvert_exporter": "python",
   "pygments_lexer": "ipython3",
   "version": "3.8.9"
  }
 },
 "nbformat": 4,
 "nbformat_minor": 5
}
