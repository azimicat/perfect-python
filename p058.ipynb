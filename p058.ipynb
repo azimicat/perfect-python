{
 "cells": [
  {
   "cell_type": "markdown",
   "id": "856a7591-7196-4dc7-b172-440428aff49c",
   "metadata": {},
   "source": [
    "# グローバル変数\n",
    "厳密にはPtyhonにグローバル変数はありません。\n",
    "変数スコープは最大のグローバル変数でもモジュール単位のものでしかありません。  \n",
    "関数やクラスの中で`global`というキーワードを用いると、グローバル変数の指定になります。"
   ]
  },
  {
   "cell_type": "code",
   "execution_count": 6,
   "id": "ec668822-2e2a-457b-a95b-48f5c8ea0066",
   "metadata": {},
   "outputs": [],
   "source": [
    "spam = 'ham'\n",
    "\n",
    "def egg():\n",
    "    # global宣言を使うと、グローバル変数を利用できる\n",
    "    global spam\n",
    "    spam = 'egg'\n",
    "    print(spam)"
   ]
  },
  {
   "cell_type": "code",
   "execution_count": 7,
   "id": "90b9c0c3-cbb2-48a3-bdaa-577199164d34",
   "metadata": {},
   "outputs": [
    {
     "data": {
      "text/plain": [
       "'ham'"
      ]
     },
     "execution_count": 7,
     "metadata": {},
     "output_type": "execute_result"
    }
   ],
   "source": [
    "spam"
   ]
  },
  {
   "cell_type": "code",
   "execution_count": 8,
   "id": "07472a93-4067-47f3-882e-4c3564fb0048",
   "metadata": {},
   "outputs": [
    {
     "name": "stdout",
     "output_type": "stream",
     "text": [
      "egg\n"
     ]
    }
   ],
   "source": [
    "egg()"
   ]
  },
  {
   "cell_type": "code",
   "execution_count": 9,
   "id": "53e4e4ba-48a4-46a2-b6f8-3c506f407b14",
   "metadata": {},
   "outputs": [
    {
     "data": {
      "text/plain": [
       "'egg'"
      ]
     },
     "execution_count": 9,
     "metadata": {},
     "output_type": "execute_result"
    }
   ],
   "source": [
    "spam"
   ]
  },
  {
   "cell_type": "markdown",
   "id": "6aae78af-8684-4ff3-82ad-557113e80929",
   "metadata": {},
   "source": [
    "global宣言をせずにスコープ外の変数を参照した場合例外が発生します。"
   ]
  },
  {
   "cell_type": "code",
   "execution_count": 11,
   "id": "9794cf9a-8f25-4f88-b0fe-ffab8ddecf19",
   "metadata": {},
   "outputs": [
    {
     "ename": "UnboundLocalError",
     "evalue": "local variable 'yasai' referenced before assignment",
     "output_type": "error",
     "traceback": [
      "\u001b[0;31m---------------------------------------------------------------------------\u001b[0m",
      "\u001b[0;31mUnboundLocalError\u001b[0m                         Traceback (most recent call last)",
      "Input \u001b[0;32mIn [11]\u001b[0m, in \u001b[0;36m<cell line: 7>\u001b[0;34m()\u001b[0m\n\u001b[1;32m      4\u001b[0m     \u001b[38;5;28mprint\u001b[39m(yasai)\n\u001b[1;32m      5\u001b[0m     yasai \u001b[38;5;241m=\u001b[39m \u001b[38;5;124m'\u001b[39m\u001b[38;5;124mhakusai\u001b[39m\u001b[38;5;124m'\u001b[39m\n\u001b[0;32m----> 7\u001b[0m \u001b[43mnabe\u001b[49m\u001b[43m(\u001b[49m\u001b[43m)\u001b[49m\n",
      "Input \u001b[0;32mIn [11]\u001b[0m, in \u001b[0;36mnabe\u001b[0;34m()\u001b[0m\n\u001b[1;32m      3\u001b[0m \u001b[38;5;28;01mdef\u001b[39;00m \u001b[38;5;21mnabe\u001b[39m():\n\u001b[0;32m----> 4\u001b[0m     \u001b[38;5;28mprint\u001b[39m(\u001b[43myasai\u001b[49m)\n\u001b[1;32m      5\u001b[0m     yasai \u001b[38;5;241m=\u001b[39m \u001b[38;5;124m'\u001b[39m\u001b[38;5;124mhakusai\u001b[39m\u001b[38;5;124m'\u001b[39m\n",
      "\u001b[0;31mUnboundLocalError\u001b[0m: local variable 'yasai' referenced before assignment"
     ]
    }
   ],
   "source": [
    "yasai = 'negi'\n",
    "\n",
    "def nabe():\n",
    "    print(yasai)\n",
    "    yasai = 'hakusai'\n",
    "\n",
    "nabe()"
   ]
  }
 ],
 "metadata": {
  "kernelspec": {
   "display_name": "Python 3 (ipykernel)",
   "language": "python",
   "name": "python3"
  },
  "language_info": {
   "codemirror_mode": {
    "name": "ipython",
    "version": 3
   },
   "file_extension": ".py",
   "mimetype": "text/x-python",
   "name": "python",
   "nbconvert_exporter": "python",
   "pygments_lexer": "ipython3",
   "version": "3.8.9"
  }
 },
 "nbformat": 4,
 "nbformat_minor": 5
}
