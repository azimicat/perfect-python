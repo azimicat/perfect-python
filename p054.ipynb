{
 "cells": [
  {
   "cell_type": "markdown",
   "id": "75ba655c-545d-4651-bc8b-eb76d28c8fd5",
   "metadata": {},
   "source": [
    "# ビルトイン関数\n",
    "ビルトイン関数とは、プログラミング言語などにおける関数のうち、基本的・汎用的な演算処理を行うためにあらあかじめ用意されている関数のことです。\n",
    "`input()`はビルトイン関数の一種で、ユーザーがエンターを押すまでに入力したデータをstrオブジェクトで返します。"
   ]
  },
  {
   "cell_type": "code",
   "execution_count": 1,
   "id": "562199a7-c8c3-470a-8b05-4b398eb77f1a",
   "metadata": {},
   "outputs": [
    {
     "name": "stdin",
     "output_type": "stream",
     "text": [
      "お名前は？ azimicat\n",
      "何歳ですか？ 29\n"
     ]
    },
    {
     "name": "stdout",
     "output_type": "stream",
     "text": [
      "こんにちは、azimicatさん（29歳）\n"
     ]
    }
   ],
   "source": [
    "name = input(\"お名前は？\")\n",
    "age = input(\"何歳ですか？\")\n",
    "print(\"こんにちは、%sさん（%s歳）\" % (name, age))"
   ]
  }
 ],
 "metadata": {
  "kernelspec": {
   "display_name": "Python 3 (ipykernel)",
   "language": "python",
   "name": "python3"
  },
  "language_info": {
   "codemirror_mode": {
    "name": "ipython",
    "version": 3
   },
   "file_extension": ".py",
   "mimetype": "text/x-python",
   "name": "python",
   "nbconvert_exporter": "python",
   "pygments_lexer": "ipython3",
   "version": "3.8.9"
  }
 },
 "nbformat": 4,
 "nbformat_minor": 5
}
