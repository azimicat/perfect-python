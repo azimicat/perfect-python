{
 "cells": [
  {
   "cell_type": "markdown",
   "id": "ebc1dfa4-77c8-4b06-a506-7619fa7e271a",
   "metadata": {},
   "source": [
    "## float(不動小数点型)\n",
    "floatは不動小数点のある数字を簡易的に扱う時の型です。  \n",
    "Pythonのfloatは、53ビットの制度です。"
   ]
  },
  {
   "cell_type": "markdown",
   "id": "5cf5786a-a906-4efd-ba1c-0c5af497543d",
   "metadata": {},
   "source": [
    "floatの変数は指数表記でも初期化できます。"
   ]
  },
  {
   "cell_type": "code",
   "execution_count": 1,
   "id": "b5c72c79-0a28-415b-b501-a81f0ee634f8",
   "metadata": {},
   "outputs": [
    {
     "data": {
      "text/plain": [
       "100.0"
      ]
     },
     "execution_count": 1,
     "metadata": {},
     "output_type": "execute_result"
    }
   ],
   "source": [
    "# 小数点を含む実数\n",
    "num = 3.14\n",
    "\n",
    "# 指数表記\n",
    "1e2"
   ]
  },
  {
   "cell_type": "markdown",
   "id": "4a8c5a20-a34a-4da0-970c-d6d5e8b4c9d1",
   "metadata": {},
   "source": [
    "不動小数点型を使うと、簡単な計算でも予想外の値が出てきやすいです。  \n",
    "なぜなら、コンピュータは浮動小数点数をバイナリ（2進数）で保存しているからです。  \n",
    "この問題はどの言語でも起こります。"
   ]
  },
  {
   "cell_type": "code",
   "execution_count": 5,
   "id": "7088429f-791f-416d-8799-7b1fabe2dbd4",
   "metadata": {},
   "outputs": [
    {
     "data": {
      "text/plain": [
       "0.30000000000000004"
      ]
     },
     "execution_count": 5,
     "metadata": {},
     "output_type": "execute_result"
    }
   ],
   "source": [
    "0.1 + 0.1 + 0.1"
   ]
  },
  {
   "cell_type": "code",
   "execution_count": 6,
   "id": "f8b32eb5-3d0f-4a90-a52d-cdf98f8893ab",
   "metadata": {},
   "outputs": [
    {
     "data": {
      "text/plain": [
       "False"
      ]
     },
     "execution_count": 6,
     "metadata": {},
     "output_type": "execute_result"
    }
   ],
   "source": [
    "0.1 + 0.1 + 0.1 == 0.3"
   ]
  }
 ],
 "metadata": {
  "kernelspec": {
   "display_name": "Python 3 (ipykernel)",
   "language": "python",
   "name": "python3"
  },
  "language_info": {
   "codemirror_mode": {
    "name": "ipython",
    "version": 3
   },
   "file_extension": ".py",
   "mimetype": "text/x-python",
   "name": "python",
   "nbconvert_exporter": "python",
   "pygments_lexer": "ipython3",
   "version": "3.8.9"
  }
 },
 "nbformat": 4,
 "nbformat_minor": 5
}
