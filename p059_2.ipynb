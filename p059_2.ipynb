{
 "cells": [
  {
   "cell_type": "markdown",
   "id": "022294cb-b6c2-4681-bcdd-c23934028a13",
   "metadata": {},
   "source": [
    "# 予約語\n",
    "Pythonの予約後は他言語に比べて少ないです。\n",
    "\n",
    "| 予約語 | - | - | - | - |\n",
    "| :-- | :-- | :-- | :-- | :-- |\n",
    "| False | class | finally | is | return |\n",
    "| None | continue | for | lambda | try |\n",
    "| True | def | from | nonlocal | white |\n",
    "| and | del | global | not | with |\n",
    "| as | elif | if | or | yield |\n",
    "| assert | else | import | pass |  |\n",
    "| break | except | in | raise |  |"
   ]
  }
 ],
 "metadata": {
  "kernelspec": {
   "display_name": "Python 3 (ipykernel)",
   "language": "python",
   "name": "python3"
  },
  "language_info": {
   "codemirror_mode": {
    "name": "ipython",
    "version": 3
   },
   "file_extension": ".py",
   "mimetype": "text/x-python",
   "name": "python",
   "nbconvert_exporter": "python",
   "pygments_lexer": "ipython3",
   "version": "3.8.9"
  }
 },
 "nbformat": 4,
 "nbformat_minor": 5
}
