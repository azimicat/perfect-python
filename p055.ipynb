{
 "cells": [
  {
   "cell_type": "markdown",
   "id": "549a8236-8962-4d00-a484-56324a3ed32b",
   "metadata": {},
   "source": [
    "# ドックストリング\n",
    "\n",
    "関数やクラスの使い方の説明はdocstringと呼ばれる方法で記述する。\n",
    "Pythonのドックストリングはコメントではなく、関数やクラスで最初に記述された文字列識別子です。"
   ]
  },
  {
   "cell_type": "markdown",
   "id": "f9e950f6-0331-4f00-a36b-108f3cbdeac3",
   "metadata": {},
   "source": [
    "ドックストリングに記述したテキストは、定義した関数やクラスの__doc__に保存されます。"
   ]
  },
  {
   "cell_type": "code",
   "execution_count": 7,
   "id": "bceb9f98-5b43-4479-9d21-20fb57c135d8",
   "metadata": {},
   "outputs": [
    {
     "data": {
      "text/plain": [
       "'この関数はドックストリングのテスト.'"
      ]
     },
     "execution_count": 7,
     "metadata": {},
     "output_type": "execute_result"
    }
   ],
   "source": [
    "def docstring_test():\n",
    "    \"\"\"この関数はドックストリングのテスト.\"\"\"\n",
    "    return True\n",
    "\n",
    "docstring_test.__doc__\n"
   ]
  },
  {
   "cell_type": "markdown",
   "id": "d5acb145-dc81-4bb8-a3a1-faf0d4474924",
   "metadata": {},
   "source": [
    "## オンラインヘルプ\n",
    "\n",
    "`xxx.__doc__`で呼び出さずとも、`hepl()`を使うことでドックストリングを見ることができます。\n",
    "`help()`で見られる情報をオンラインヘルプと言います。"
   ]
  },
  {
   "cell_type": "code",
   "execution_count": 5,
   "id": "a099bc34-d81f-4abb-9019-6efee7bd641e",
   "metadata": {},
   "outputs": [
    {
     "name": "stdout",
     "output_type": "stream",
     "text": [
      "Help on function docstring_test in module __main__:\n",
      "\n",
      "docstring_test()\n",
      "    この関数はドックストリングのテスト.\n",
      "\n"
     ]
    }
   ],
   "source": [
    "help(docstring_test)"
   ]
  }
 ],
 "metadata": {
  "kernelspec": {
   "display_name": "Python 3 (ipykernel)",
   "language": "python",
   "name": "python3"
  },
  "language_info": {
   "codemirror_mode": {
    "name": "ipython",
    "version": 3
   },
   "file_extension": ".py",
   "mimetype": "text/x-python",
   "name": "python",
   "nbconvert_exporter": "python",
   "pygments_lexer": "ipython3",
   "version": "3.8.9"
  }
 },
 "nbformat": 4,
 "nbformat_minor": 5
}
