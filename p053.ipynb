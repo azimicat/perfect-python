{
 "cells": [
  {
   "cell_type": "code",
   "execution_count": 4,
   "id": "86798dd5-7a5d-4bf6-8894-55834a89a060",
   "metadata": {},
   "outputs": [],
   "source": [
    "def main():\n",
    "    for i in range(1,6):\n",
    "        if i % 2 == 0:\n",
    "            print(\"%sは偶数です\" % i)\n",
    "        else:\n",
    "            print(\"%sは奇数です\" % i)"
   ]
  },
  {
   "cell_type": "code",
   "execution_count": 5,
   "id": "d5acd88c-74cf-495e-b20e-f90ca76b77a3",
   "metadata": {},
   "outputs": [
    {
     "name": "stdout",
     "output_type": "stream",
     "text": [
      "1は奇数です\n",
      "2は偶数です\n",
      "3は奇数です\n",
      "4は偶数です\n",
      "5は奇数です\n"
     ]
    }
   ],
   "source": [
    "main()\n"
   ]
  },
  {
   "cell_type": "markdown",
   "id": "8e859b36-4cc7-461a-bd56-72e7ad6701db",
   "metadata": {},
   "source": []
  }
 ],
 "metadata": {
  "kernelspec": {
   "display_name": "Python 3 (ipykernel)",
   "language": "python",
   "name": "python3"
  },
  "language_info": {
   "codemirror_mode": {
    "name": "ipython",
    "version": 3
   },
   "file_extension": ".py",
   "mimetype": "text/x-python",
   "name": "python",
   "nbconvert_exporter": "python",
   "pygments_lexer": "ipython3",
   "version": "3.8.9"
  }
 },
 "nbformat": 4,
 "nbformat_minor": 5
}
