{
 "cells": [
  {
   "cell_type": "code",
   "execution_count": 1,
   "id": "b75346fb-0f41-41d5-8bb0-8ae2a2a4f636",
   "metadata": {},
   "outputs": [
    {
     "name": "stdout",
     "output_type": "stream",
     "text": [
      "Help on function docstring_test in module __main__:\n",
      "\n",
      "docstring_test()\n",
      "    この関数はドックストリングのテスト。\n",
      "    これは複数業のドックストリング。\n",
      "\n"
     ]
    }
   ],
   "source": [
    "def docstring_test():\n",
    "    \"\"\"この関数はドックストリングのテスト。\n",
    "    これは複数業のドックストリング。\"\"\"\n",
    "    return True\n",
    "\n",
    "help(docstring_test)"
   ]
  },
  {
   "cell_type": "code",
   "execution_count": 3,
   "id": "79ece4cd-d1e0-4084-936c-6545c3da0c84",
   "metadata": {},
   "outputs": [],
   "source": [
    "def spam():\n",
    "    \"\"\"マルチライン\n",
    "    ドックストリング\"\"\"\n",
    "    return True\n",
    "    \n",
    "def eggs():\n",
    "    \"\"\"\n",
    "    マルチライン\n",
    "    ドックストリング\n",
    "    \"\"\"\n",
    "    return True"
   ]
  },
  {
   "cell_type": "markdown",
   "id": "bb95f258-b2ac-4aa8-8e55-67ab8ec4a3c4",
   "metadata": {},
   "source": [
    "複数業のドックストリングは、２業目からのインデントを無視し、先頭と末尾の空白を削ります。  \n",
    "プログラムのインデントはドックストリングのインデントに影響しません。"
   ]
  }
 ],
 "metadata": {
  "kernelspec": {
   "display_name": "Python 3 (ipykernel)",
   "language": "python",
   "name": "python3"
  },
  "language_info": {
   "codemirror_mode": {
    "name": "ipython",
    "version": 3
   },
   "file_extension": ".py",
   "mimetype": "text/x-python",
   "name": "python",
   "nbconvert_exporter": "python",
   "pygments_lexer": "ipython3",
   "version": "3.8.9"
  }
 },
 "nbformat": 4,
 "nbformat_minor": 5
}
